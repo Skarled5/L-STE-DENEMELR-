{
 "cells": [
  {
   "cell_type": "markdown",
   "id": "3fd6ce3d",
   "metadata": {},
   "source": [
    "print('merhaba \\thakan')\n",
    "\n",
    "\n",
    "\n",
    "\n",
    "\n",
    "\n",
    "\n",
    "\n",
    "\n"
   ]
  },
  {
   "cell_type": "code",
   "execution_count": 4,
   "id": "63df61e0",
   "metadata": {},
   "outputs": [
    {
     "name": "stdout",
     "output_type": "stream",
     "text": [
      "-buralarda bende yeniyim \n",
      "-öylemi ben 6 senedir burdayım \n"
     ]
    }
   ],
   "source": [
    "print('-buralarda bende yeniyim \\n-öylemi ben 6 senedir burdayım ')"
   ]
  },
  {
   "cell_type": "code",
   "execution_count": null,
   "id": "10d6cc00",
   "metadata": {},
   "outputs": [],
   "source": []
  },
  {
   "cell_type": "code",
   "execution_count": 18,
   "id": "3b62ce54",
   "metadata": {},
   "outputs": [
    {
     "name": "stdout",
     "output_type": "stream",
     "text": [
      "benim adım hakan yaşım 19\n"
     ]
    }
   ],
   "source": [
    "print('benim adım {0} yaşım {1}'.format('hakan',19))\n"
   ]
  },
  {
   "cell_type": "code",
   "execution_count": 19,
   "id": "5d6aef45",
   "metadata": {},
   "outputs": [
    {
     "name": "stdout",
     "output_type": "stream",
     "text": [
      "benim adım hakan yaşım 19\n"
     ]
    }
   ],
   "source": [
    "print('benim adım {ad} yaşım {yaş}'.format(ad='hakan',yaş=19))\n",
    "\n",
    "\n",
    "\n",
    "\n",
    "\n",
    "\n"
   ]
  },
  {
   "cell_type": "code",
   "execution_count": 20,
   "id": "0472e889",
   "metadata": {},
   "outputs": [
    {
     "name": "stdout",
     "output_type": "stream",
     "text": [
      "['hakan']\n"
     ]
    }
   ],
   "source": [
    "tup=('cafer',19,2.23)\n",
    "list=['hakan']\n",
    "print(list)"
   ]
  },
  {
   "cell_type": "code",
   "execution_count": 21,
   "id": "9c5b545b",
   "metadata": {},
   "outputs": [
    {
     "data": {
      "text/plain": [
       "0"
      ]
     },
     "execution_count": 21,
     "metadata": {},
     "output_type": "execute_result"
    }
   ],
   "source": [
    "tup.count(True) # count denilen şey kaç tane var olduğunu söyler"
   ]
  },
  {
   "cell_type": "code",
   "execution_count": 22,
   "id": "ce2d97a1",
   "metadata": {},
   "outputs": [
    {
     "data": {
      "text/plain": [
       "1"
      ]
     },
     "execution_count": 22,
     "metadata": {},
     "output_type": "execute_result"
    }
   ],
   "source": [
    "tup.index(19) # hangi sırada olduğunu belirtir"
   ]
  },
  {
   "cell_type": "code",
   "execution_count": 23,
   "id": "03ab6704",
   "metadata": {},
   "outputs": [
    {
     "data": {
      "text/plain": [
       "0"
      ]
     },
     "execution_count": 23,
     "metadata": {},
     "output_type": "execute_result"
    }
   ],
   "source": [
    "tup.index('cafer')"
   ]
  },
  {
   "cell_type": "code",
   "execution_count": 24,
   "id": "c423bd7f",
   "metadata": {},
   "outputs": [],
   "source": [
    "list[0] ='23'"
   ]
  },
  {
   "cell_type": "code",
   "execution_count": 25,
   "id": "db04cca3",
   "metadata": {},
   "outputs": [
    {
     "name": "stdout",
     "output_type": "stream",
     "text": [
      "['23']\n"
     ]
    }
   ],
   "source": [
    "print(list)"
   ]
  },
  {
   "cell_type": "code",
   "execution_count": 26,
   "id": "cd4f5890",
   "metadata": {},
   "outputs": [],
   "source": [
    "dict1 = {'doğduğu_şehir':'kocaeli','yaşadığı_şehir':'malatya','yaş':19}\n",
    "\n"
   ]
  },
  {
   "cell_type": "code",
   "execution_count": 27,
   "id": "c0bb8c0a",
   "metadata": {},
   "outputs": [
    {
     "data": {
      "text/plain": [
       "dict_keys(['doğduğu_şehir', 'yaşadığı_şehir', 'yaş'])"
      ]
     },
     "execution_count": 27,
     "metadata": {},
     "output_type": "execute_result"
    }
   ],
   "source": [
    "dict1.keys()"
   ]
  },
  {
   "cell_type": "code",
   "execution_count": 28,
   "id": "4288786a",
   "metadata": {},
   "outputs": [
    {
     "data": {
      "text/plain": [
       "dict_values(['kocaeli', 'malatya', 19])"
      ]
     },
     "execution_count": 28,
     "metadata": {},
     "output_type": "execute_result"
    }
   ],
   "source": [
    "dict1.values()"
   ]
  },
  {
   "cell_type": "code",
   "execution_count": 29,
   "id": "ba2f191e",
   "metadata": {},
   "outputs": [
    {
     "data": {
      "text/plain": [
       "dict_items([('doğduğu_şehir', 'kocaeli'), ('yaşadığı_şehir', 'malatya'), ('yaş', 19)])"
      ]
     },
     "execution_count": 29,
     "metadata": {},
     "output_type": "execute_result"
    }
   ],
   "source": [
    "dict1.items()"
   ]
  },
  {
   "cell_type": "code",
   "execution_count": null,
   "id": "f2a2b110",
   "metadata": {},
   "outputs": [],
   "source": []
  },
  {
   "cell_type": "code",
   "execution_count": 37,
   "id": "4a85d645",
   "metadata": {
    "scrolled": true
   },
   "outputs": [
    {
     "name": "stdout",
     "output_type": "stream",
     "text": [
      "Hakan iyi\n",
      "Hakan iyi futbol oynar\n",
      "Hakan iyi futbol oynarHakan iyi futbol oynarHakan iyi futbol oynarHakan iyi futbol oynar\n",
      "Hakan iyi futbol oynar 17\n",
      "Hakan iyi futbol oynarnike\n"
     ]
    }
   ],
   "source": [
    "str=('Hakan iyi futbol oynar')\n",
    "print(str[0:9])\n",
    "print(str)\n",
    "print(str*4)\n",
    "print(str+' 17')\n",
    "str=str + 'nike' # nike kelimesini içeri aktardık\n",
    "print(str)\n",
    "    "
   ]
  },
  {
   "cell_type": "raw",
   "id": "9116eae3",
   "metadata": {},
   "source": []
  },
  {
   "cell_type": "code",
   "execution_count": 38,
   "id": "9f633df0",
   "metadata": {},
   "outputs": [
    {
     "name": "stdout",
     "output_type": "stream",
     "text": [
      "['a', 'b', 'c', 'd']\n"
     ]
    }
   ],
   "source": [
    "list = ['a','b','c','d']\n",
    "print(list)"
   ]
  },
  {
   "cell_type": "code",
   "execution_count": 39,
   "id": "205a71d3",
   "metadata": {},
   "outputs": [
    {
     "ename": "AttributeError",
     "evalue": "'list' object has no attribute 'oppend'",
     "output_type": "error",
     "traceback": [
      "\u001b[1;31m---------------------------------------------------------------------------\u001b[0m",
      "\u001b[1;31mAttributeError\u001b[0m                            Traceback (most recent call last)",
      "Input \u001b[1;32mIn [39]\u001b[0m, in \u001b[0;36m<cell line: 1>\u001b[1;34m()\u001b[0m\n\u001b[1;32m----> 1\u001b[0m \u001b[38;5;28;43mlist\u001b[39;49m\u001b[38;5;241;43m.\u001b[39;49m\u001b[43moppend\u001b[49m(\u001b[38;5;124m'\u001b[39m\u001b[38;5;124me\u001b[39m\u001b[38;5;124m'\u001b[39m)\n",
      "\u001b[1;31mAttributeError\u001b[0m: 'list' object has no attribute 'oppend'"
     ]
    }
   ],
   "source": []
  },
  {
   "cell_type": "code",
   "execution_count": 1,
   "id": "f300742a",
   "metadata": {},
   "outputs": [
    {
     "name": "stdout",
     "output_type": "stream",
     "text": [
      "ekledim\n"
     ]
    }
   ],
   "source": [
    "list=['a','b','c']\n",
    "hedef_harf='d'\n",
    "if hedef_harf in list :\n",
    "    print('buldum')\n",
    "else:\n",
    "    list.append(hedef_harf)\n",
    "    print('ekledim')\n",
    "    \n",
    "    "
   ]
  },
  {
   "cell_type": "code",
   "execution_count": 3,
   "id": "795ca822",
   "metadata": {},
   "outputs": [
    {
     "name": "stdout",
     "output_type": "stream",
     "text": [
      "olamaz\n"
     ]
    }
   ],
   "source": [
    "hakan=19\n",
    "if hakan>21 :\n",
    "   print('milletvekili adayı olabilir')\n",
    "else:\n",
    "    print('olamaz')\n",
    "    \n",
    "    \n",
    "    \n",
    "    \n",
    "    "
   ]
  },
  {
   "cell_type": "code",
   "execution_count": 12,
   "id": "1e4a54f5",
   "metadata": {},
   "outputs": [],
   "source": [
    "yorum_bırakanlar=['ali','cafer','mustafa','deniz']\n",
    "\n",
    "\n",
    "\n",
    "\n",
    "\n"
   ]
  },
  {
   "cell_type": "code",
   "execution_count": 13,
   "id": "11ed4f07",
   "metadata": {},
   "outputs": [
    {
     "name": "stdout",
     "output_type": "stream",
     "text": [
      "ali\n",
      "cafer\n",
      "mustafa\n",
      "deniz\n"
     ]
    }
   ],
   "source": [
    "for kullanici in yorum_bırakanlar:\n",
    "    print(kullanici)\n",
    "    \n",
    "    \n"
   ]
  },
  {
   "cell_type": "code",
   "execution_count": 19,
   "id": "477c7927",
   "metadata": {},
   "outputs": [
    {
     "ename": "SyntaxError",
     "evalue": "invalid syntax (1520410342.py, line 3)",
     "output_type": "error",
     "traceback": [
      "\u001b[1;36m  Input \u001b[1;32mIn [19]\u001b[1;36m\u001b[0m\n\u001b[1;33m    for kullanıcı in yorum_bırakanlar\u001b[0m\n\u001b[1;37m                                     ^\u001b[0m\n\u001b[1;31mSyntaxError\u001b[0m\u001b[1;31m:\u001b[0m invalid syntax\n"
     ]
    }
   ],
   "source": [
    "yorum_bırakanlar = 0\n",
    "\n",
    "for kullanıcı in yorum_bırakanlar\n",
    "    kullanıcı_sayısı=kullanıcı_sayısı + 1\n",
    "    print(kullanıcı_sayısı,kullanıcı)\n",
    "    \n",
    "    \n",
    "    \n",
    "    \n",
    "    \n",
    "    \n",
    "    \n",
    "    \n",
    "    \n",
    "    \n"
   ]
  },
  {
   "cell_type": "code",
   "execution_count": 5,
   "id": "0400dc11",
   "metadata": {},
   "outputs": [
    {
     "name": "stdout",
     "output_type": "stream",
     "text": [
      "1.sayıyı giriniz3\n",
      "2.sayıyı girin2\n",
      "3   +   2   =   5\n"
     ]
    }
   ],
   "source": [
    "# girilen iki sayının toplamı\n",
    "sayı1= int(input('1.sayıyı giriniz'))\n",
    "sayı2= int(input('2.sayıyı girin'))\n",
    "toplam=sayı1+sayı2\n",
    "print(sayı1,\"  +  \",sayı2,\"  =  \",toplam)\n",
    "\n"
   ]
  },
  {
   "cell_type": "code",
   "execution_count": 6,
   "id": "5d8b38c3",
   "metadata": {},
   "outputs": [
    {
     "name": "stdout",
     "output_type": "stream",
     "text": [
      "akım degerini giriniz3\n",
      "direnç degerini giriniz4\n",
      "12\n"
     ]
    }
   ],
   "source": [
    "# V=I*R formülün kodlanması\n",
    "I=int(input('akım degerini giriniz'))\n",
    "R=int(input('direnç degerini giriniz'))\n",
    "V=I*R\n",
    "print(V)\n"
   ]
  },
  {
   "cell_type": "code",
   "execution_count": null,
   "id": "e5357484",
   "metadata": {},
   "outputs": [],
   "source": [
    " # KISA VE UZUN KENARI GİRİLEN DİKTÖRTGENİN ALANINI ve cevresini HESAPLAYAN PROGRAM\n",
    "a=int(input('kısa kenarı girin'))\n",
    "b=int(input('uzun kenarı girin'))\n",
    "alan=a*b\n",
    "cevre=a+b\n",
    "print(\"diktörtgen alanı\",alan)\n",
    "print(\"diktörtgen cevresi\",cevre)\n",
    "\n",
    "\n",
    "\n",
    "\n",
    "\n",
    "\n",
    "\n",
    "\n",
    "\n",
    "\n",
    "\n",
    "\n",
    "\n"
   ]
  },
  {
   "cell_type": "code",
   "execution_count": null,
   "id": "250eda87",
   "metadata": {
    "scrolled": true
   },
   "outputs": [],
   "source": [
    "# yarıçapı verilen cemberin alanını bulma\n",
    "r=int(input('cemberin yarı capını girin'))\n",
    "pi=3.14\n",
    "alan=pi*r*r\n",
    "cevre=2*pi*r\n",
    "print(\"cemberin cevresi\",cevre)\n",
    "print(\"cemberin alanı\",alan)\n",
    "\n",
    "\n",
    "      \n",
    "      \n"
   ]
  },
  {
   "cell_type": "code",
   "execution_count": null,
   "id": "4cc4d003",
   "metadata": {},
   "outputs": [],
   "source": [
    "# girilen sayının pozitif veya negatif olduğu kod\n",
    "sayı=int(input('bir sayı giriniz'))\n",
    "if(sayı)>0:\n",
    "        print(sayı,\"sayı pozitiftir\")\n",
    "if(sayı)<\n",
    "        print(sayı,\"sayı negatif\")\n",
    "if sayı==0:\n",
    "        print(sayı,\"sıfır sayısıdır\")\n",
    "        \n",
    "        \n",
    "        \n",
    "        \n",
    "        \n",
    "        \n",
    "        \n",
    "        \n",
    "        \n",
    "        \n",
    "        \n",
    "        \n",
    "        \n",
    "        \n",
    "        \n",
    "        \n",
    "        \n",
    "        \n",
    "        \n",
    "    \n",
    "    \n",
    "        \n",
    "        \n",
    "        \n",
    "        "
   ]
  },
  {
   "cell_type": "code",
   "execution_count": null,
   "id": "a752d94d",
   "metadata": {},
   "outputs": [],
   "source": [
    "if(sayı)>0:\n",
    "        print(sayı,\"sayı pozitiftir\")\n",
    "if(sayı)<0:\n",
    "        print(sayı,\"sayı negatif\")\n",
    "else:\n",
    "        if sayı==0\n",
    "        print(sayı,\"sayı sıfır\")\n",
    "        \n",
    "        \n",
    "        \n",
    "        \n",
    "        \n",
    "        \n",
    "        \n",
    "        \n",
    "        \n",
    "        \n",
    "        "
   ]
  },
  {
   "cell_type": "code",
   "execution_count": 29,
   "id": "a0ab2618",
   "metadata": {},
   "outputs": [
    {
     "ename": "SyntaxError",
     "evalue": "invalid syntax (4033683451.py, line 4)",
     "output_type": "error",
     "traceback": [
      "\u001b[1;36m  Input \u001b[1;32mIn [29]\u001b[1;36m\u001b[0m\n\u001b[1;33m    if puan>=0 and puan<25\u001b[0m\n\u001b[1;37m                          ^\u001b[0m\n\u001b[1;31mSyntaxError\u001b[0m\u001b[1;31m:\u001b[0m invalid syntax\n"
     ]
    }
   ],
   "source": [
    "# girilen bir puanın 5 lik sistemde açılımı\n",
    "puan=int(input('dersin puanını girin'))\n",
    "\n",
    "if puan>=0 and puan<25\n",
    "    print(puan,\"puanın 5 lik sistemdeki karşılığı:0\")\n",
    "elif puan\n",
    "    \n",
    "    "
   ]
  },
  {
   "cell_type": "code",
   "execution_count": null,
   "id": "4ff6a5d0",
   "metadata": {},
   "outputs": [],
   "source": [
    "x=int(input('bir sayı girin'))\n",
    "if x%6==0:\n",
    "    print('katı')\n",
    "else:\n",
    "    print('degil')\n",
    "    \n",
    "    "
   ]
  },
  {
   "cell_type": "code",
   "execution_count": 10,
   "id": "726f5305",
   "metadata": {},
   "outputs": [
    {
     "name": "stdout",
     "output_type": "stream",
     "text": [
      "bir sayı girin2\n",
      "maası girin10000\n",
      "11000.0 yeni maas\n"
     ]
    }
   ],
   "source": [
    "cocuk=int(input('bir sayı girin'))\n",
    "maas=int(input('maası girin'))\n",
    "if(cocuk==1):\n",
    "        maas=maas+(maas*0.05)\n",
    "        print(maas,\"yeni maas\")\n",
    "elif(cocuk==2):\n",
    "        maas=maas+(maas*0.1)\n",
    "        print(maas,\"yeni maas\")\n",
    "else:\n",
    "    maas=maas+(maas*0.15)\n",
    "    print(maas,'yeni maas')\n",
    "        \n",
    "        \n",
    "    \n",
    "    \n",
    "    \n",
    "    \n",
    "    \n",
    "    \n",
    "    \n",
    "    \n",
    "    \n",
    "    \n",
    "    \n",
    "    \n",
    "\n"
   ]
  },
  {
   "cell_type": "code",
   "execution_count": 45,
   "id": "34696c86",
   "metadata": {},
   "outputs": [
    {
     "ename": "SyntaxError",
     "evalue": "invalid syntax (471656120.py, line 4)",
     "output_type": "error",
     "traceback": [
      "\u001b[1;36m  Input \u001b[1;32mIn [45]\u001b[1;36m\u001b[0m\n\u001b[1;33m    while x<10 y<10:\u001b[0m\n\u001b[1;37m               ^\u001b[0m\n\u001b[1;31mSyntaxError\u001b[0m\u001b[1;31m:\u001b[0m invalid syntax\n"
     ]
    }
   ],
   "source": [
    "print('element','  ','value')\n",
    "x=0\n",
    "y=0\n",
    "\n",
    "   \n",
    "\n",
    "    \n",
    "    \n",
    "    \n",
    "    \n",
    "    \n",
    "    \n",
    "    \n"
   ]
  },
  {
   "cell_type": "code",
   "execution_count": 3,
   "id": "e879b8da",
   "metadata": {
    "scrolled": false
   },
   "outputs": [
    {
     "name": "stdout",
     "output_type": "stream",
     "text": [
      "2\n",
      "6\n",
      "24\n",
      "120\n"
     ]
    }
   ],
   "source": [
    "fak=1\n",
    "for i in range(2,6,1):\n",
    "        fak=fak*i\n",
    "        print(fak)\n",
    "        \n",
    "    "
   ]
  },
  {
   "cell_type": "code",
   "execution_count": 10,
   "id": "3d8e512d",
   "metadata": {},
   "outputs": [
    {
     "name": "stdout",
     "output_type": "stream",
     "text": [
      "bir sayı gir456\n",
      "sayııı56\n"
     ]
    }
   ],
   "source": [
    "a=int(input('bir sayı gir'))\n",
    "b=int(input('sayııı'))\n",
    "while 0>a:\n",
    "    b=b*a\n",
    "    a-=a\n",
    "    print('a')\n",
    "    \n",
    "\n",
    "    \n",
    "        \n",
    "        \n",
    "        \n",
    "    \n",
    "    \n",
    "    "
   ]
  },
  {
   "cell_type": "code",
   "execution_count": 1,
   "id": "88f55e30",
   "metadata": {},
   "outputs": [
    {
     "name": "stdout",
     "output_type": "stream",
     "text": [
      "Sayıyı Gir : 245\n",
      "\n",
      " Sayının Ters Çevrilmiş Hali = 542\n"
     ]
    }
   ],
   "source": [
    "sayi = int(input(\"Sayıyı Gir : \"))    \n",
    "ters = 0    \n",
    "while(sayi > 0):    \n",
    "    gecici = sayi %10    \n",
    "    ters = (ters *10) + gecici    \n",
    "    sayi = sayi //10    \n",
    "     \n",
    "print(\"\\n Sayının Ters Çevrilmiş Hali = %d\" %ters)\n"
   ]
  },
  {
   "cell_type": "code",
   "execution_count": 2,
   "id": "f2554f9f",
   "metadata": {},
   "outputs": [
    {
     "name": "stdout",
     "output_type": "stream",
     "text": [
      "Bir sayı girin: 243\n",
      "rakamların toplamı: 9\n"
     ]
    }
   ],
   "source": [
    "sayı=input(\"Bir sayı girin: \")\n",
    "toplam=0\n",
    "for rakam in sayı:\n",
    "    toplam+=int(rakam)\n",
    "    \n",
    "print('rakamların toplamı:',toplam)\n",
    "\n",
    "\n"
   ]
  },
  {
   "cell_type": "code",
   "execution_count": 1,
   "id": "edf1f273",
   "metadata": {},
   "outputs": [
    {
     "name": "stdout",
     "output_type": "stream",
     "text": [
      "bir sayı girin: 7\n",
      "Tek Sayıların Toplamı:9\n",
      "Cift Sayıların Toplamı:12\n"
     ]
    }
   ],
   "source": [
    "sayı=input(\"bir sayı girin: \")\n",
    "TekTop=0\n",
    "CiftTop=0\n",
    "for i in range(1,int(sayı)):\n",
    "    if(i%2==0):\n",
    "        CiftTop+=i\n",
    "    else:\n",
    "        TekTop+=i\n",
    "print('Tek Sayıların Toplamı:{0}'.format(TekTop))\n",
    "print('Cift Sayıların Toplamı:{0}'.format(CiftTop))\n",
    "    \n",
    "    \n",
    "    "
   ]
  },
  {
   "cell_type": "code",
   "execution_count": 4,
   "id": "c98b39e9",
   "metadata": {},
   "outputs": [
    {
     "name": "stdout",
     "output_type": "stream",
     "text": [
      "Bir metin girin: abe hayran\n",
      "metinde 3 adet a bulunur\n"
     ]
    }
   ],
   "source": [
    "#girilen kelime  veya cümlede kaç adet a olduğunu bulan prograö\n",
    "metin=input(\"Bir metin girin: \")\n",
    "adet=0\n",
    "for harf in metin:\n",
    "    if(harf=='a'):\n",
    "        adet+=1\n",
    "\n",
    "print('metinde {} adet a bulunur'.format(adet))"
   ]
  },
  {
   "cell_type": "code",
   "execution_count": 9,
   "id": "3135dea6",
   "metadata": {},
   "outputs": [
    {
     "name": "stdout",
     "output_type": "stream",
     "text": [
      "yeni list ['6587', '512', '432'] bu şekilde\n"
     ]
    }
   ],
   "source": [
    "#N’e kadar ki sayıların basamak değerlerinde k rakamı olmayanları listeleyen program?\n",
    "list=['6587','512','432']\n",
    "for i in list:\n",
    "    if(i=='3'):\n",
    "        continue\n",
    "print('yeni list {} bu şekilde'.format(list))\n",
    "  \n",
    "\n",
    "\n",
    "\n",
    "\n"
   ]
  },
  {
   "cell_type": "code",
   "execution_count": 3,
   "id": "e11ef0bc",
   "metadata": {},
   "outputs": [
    {
     "ename": "SyntaxError",
     "evalue": "invalid syntax (2443422914.py, line 4)",
     "output_type": "error",
     "traceback": [
      "\u001b[1;36m  Input \u001b[1;32mIn [3]\u001b[1;36m\u001b[0m\n\u001b[1;33m    if k=n%10:\u001b[0m\n\u001b[1;37m        ^\u001b[0m\n\u001b[1;31mSyntaxError\u001b[0m\u001b[1;31m:\u001b[0m invalid syntax\n"
     ]
    }
   ],
   "source": [
    "#Girilen sayının basamak değerlerini çarpan program\n",
    "\n",
    "\n",
    "\n",
    "\n"
   ]
  },
  {
   "cell_type": "code",
   "execution_count": 11,
   "id": "224b719e",
   "metadata": {},
   "outputs": [
    {
     "name": "stdout",
     "output_type": "stream",
     "text": [
      "TC=15623532906\n",
      "yanlıs tc\n"
     ]
    }
   ],
   "source": [
    "#TC kimlik numarasını doğru girmeye zorlayanız\n",
    "TC=input('TC=')\n",
    "a=[1,2,3,4,5,6,7,8,9,0]\n",
    "c=0\n",
    "for i in TC:\n",
    "    if a==i:\n",
    "        c+=1\n",
    "    \n",
    "        \n",
    "if c==11:\n",
    "    print('dogru tc')\n",
    "else:\n",
    "    print('yanlıs tc')\n",
    "\n",
    "   \n",
    "        \n",
    "        \n",
    "    \n",
    "    \n",
    "    \n",
    "        \n"
   ]
  },
  {
   "cell_type": "code",
   "execution_count": 7,
   "id": "dbd40496",
   "metadata": {},
   "outputs": [
    {
     "ename": "SyntaxError",
     "evalue": "invalid syntax (4199698477.py, line 3)",
     "output_type": "error",
     "traceback": [
      "\u001b[1;36m  Input \u001b[1;32mIn [7]\u001b[1;36m\u001b[0m\n\u001b[1;33m    if\u001b[0m\n\u001b[1;37m       ^\u001b[0m\n\u001b[1;31mSyntaxError\u001b[0m\u001b[1;31m:\u001b[0m invalid syntax\n"
     ]
    }
   ],
   "source": [
    "n=int(input(\"n=\"))\n",
    "k=0\n",
    "if \n",
    "    "
   ]
  },
  {
   "cell_type": "code",
   "execution_count": null,
   "id": "d89b3dee",
   "metadata": {},
   "outputs": [],
   "source": [
    "#asal sayıyı bulan program\n",
    "n=int(input(\"n=\"))\n",
    "c=0\n",
    "for i in range(2,n):\n",
    "    if n%i==0:\n",
    "        c=1\n",
    "        break\n",
    "if c==0:\n",
    "    print('sayı asal')\n",
    "else:\n",
    "    print('asal degil')\n",
    "    "
   ]
  },
  {
   "cell_type": "code",
   "execution_count": 5,
   "id": "ad15faa7",
   "metadata": {},
   "outputs": [
    {
     "name": "stdout",
     "output_type": "stream",
     "text": [
      "isim giriniz :jdgj\n",
      "j\n"
     ]
    }
   ],
   "source": [
    "isim=input('isim giriniz :')\n",
    "uzunluk=len(isim)\n",
    "ters=\"\"\n",
    "for i in range(uzunluk-1,-1,-1):\n",
    "    ters=isim[i]\n",
    "print(ters)"
   ]
  },
  {
   "cell_type": "code",
   "execution_count": null,
   "id": "b3c55978",
   "metadata": {},
   "outputs": [
    {
     "name": "stdout",
     "output_type": "stream",
     "text": [
      "n=3\n",
      "3\n"
     ]
    }
   ],
   "source": [
    "#bir sayının asa\n",
    "n=int(input(\"n=\"))\n",
    "a=2\n",
    "c=0\n",
    "while n>1:\n",
    "    if n%a>0:\n",
    "        a+=1\n",
    "        c=0\n",
    "    else:\n",
    "        n//a\n",
    "        c+=1\n",
    "        if c==1:\n",
    "            print(a)"
   ]
  },
  {
   "cell_type": "code",
   "execution_count": 7,
   "id": "2bfbab51",
   "metadata": {},
   "outputs": [
    {
     "ename": "TypeError",
     "evalue": "'in <string>' requires string as left operand, not list",
     "output_type": "error",
     "traceback": [
      "\u001b[1;31m---------------------------------------------------------------------------\u001b[0m",
      "\u001b[1;31mTypeError\u001b[0m                                 Traceback (most recent call last)",
      "Input \u001b[1;32mIn [7]\u001b[0m, in \u001b[0;36m<cell line: 5>\u001b[1;34m()\u001b[0m\n\u001b[0;32m      3\u001b[0m sesliN\u001b[38;5;241m=\u001b[39m\u001b[38;5;241m0\u001b[39m\n\u001b[0;32m      4\u001b[0m sessizN\u001b[38;5;241m=\u001b[39m\u001b[38;5;241m0\u001b[39m\n\u001b[1;32m----> 5\u001b[0m \u001b[38;5;28;01mif\u001b[39;00m \u001b[43msesli\u001b[49m\u001b[43m \u001b[49m\u001b[38;5;129;43;01min\u001b[39;49;00m\u001b[43m \u001b[49m\u001b[38;5;28;43mstr\u001b[39;49m:\n\u001b[0;32m      6\u001b[0m     sesliN\u001b[38;5;241m+\u001b[39m\u001b[38;5;241m=\u001b[39m\u001b[38;5;241m1\u001b[39m\n\u001b[0;32m      7\u001b[0m     \u001b[38;5;28mprint\u001b[39m(\u001b[38;5;28mstr\u001b[39m)\n",
      "\u001b[1;31mTypeError\u001b[0m: 'in <string>' requires string as left operand, not list"
     ]
    }
   ],
   "source": [
    "str='Merhaba Dünya'\n",
    "sesli=['a','e','ı','i','o','ö','u','ü']\n",
    "sesliN=0\n",
    "sessizN=0\n",
    "if sesli in str:\n",
    "    sesliN+=1\n",
    "    print(str)\n",
    "else:\n",
    "    sessizN+=1\n",
    "    print(str)\n",
    "  \n",
    "    "
   ]
  },
  {
   "cell_type": "code",
   "execution_count": null,
   "id": "3587d5d6",
   "metadata": {},
   "outputs": [],
   "source": [
    "n=int(input('n='))\n",
    "c=0\n",
    "for i in range(1,n+1):\n",
    "    if i*(i+1)==n:\n",
    "        c=1\n",
    "        break\n",
    "    \n",
    "if c==1:\n",
    "    print('pronic')\n",
    "else:\n",
    "    print('pronic degil')\n",
    "        "
   ]
  },
  {
   "cell_type": "code",
   "execution_count": null,
   "id": "5f6ea0d8",
   "metadata": {},
   "outputs": [],
   "source": [
    "k=int(input('k='))\n",
    "ky=k\n",
    "top=0\n",
    "while k>0:\n",
    "    son=k%10\n",
    "    top+=son\n",
    "    k=k//10\n",
    "\n",
    "if ky%top==0:\n",
    "    print('harsard')\n",
    "else:\n",
    "    print('harsard degil')\n"
   ]
  },
  {
   "cell_type": "code",
   "execution_count": 1,
   "id": "2a7240ee",
   "metadata": {},
   "outputs": [
    {
     "name": "stdout",
     "output_type": "stream",
     "text": [
      "1\n",
      "2\n",
      "3\n",
      "5\n",
      "8\n",
      "13\n",
      "21\n",
      "34\n",
      "55\n",
      "89\n",
      "144\n",
      "233\n"
     ]
    }
   ],
   "source": [
    "#fibonaci dizisi oluşturma\n",
    "a=1\n",
    "b=1\n",
    "c=0\n",
    "while c<300:\n",
    "    print(b)\n",
    "    c=a+b\n",
    "    a=b\n",
    "    b=c"
   ]
  },
  {
   "cell_type": "code",
   "execution_count": 6,
   "id": "88015cb8",
   "metadata": {},
   "outputs": [
    {
     "name": "stdout",
     "output_type": "stream",
     "text": [
      "metin giriniz:hakan\n",
      "sesli harf sayısı: 2\n",
      "sessiz harf sayısı 3\n"
     ]
    }
   ],
   "source": [
    "a=input('metin giriniz:')\n",
    "c=\"aeıiuüoç\"\n",
    "sayac=0\n",
    "for harf in a:\n",
    "    if harf in c:\n",
    "        sayac+=1\n",
    "print('sesli harf sayısı:',sayac)\n",
    "print('sessiz harf sayısı',len(a)-sayac) #len denilen şey kaç birim uzunlukta olduğunu belirtir\n",
    "\n",
    "        "
   ]
  },
  {
   "cell_type": "code",
   "execution_count": 4,
   "id": "ce7b9789",
   "metadata": {},
   "outputs": [
    {
     "name": "stdout",
     "output_type": "stream",
     "text": [
      "c\n",
      "cc\n",
      "ccc\n",
      "cccc\n",
      "ccccc\n",
      "cccccc\n",
      "ccccccc\n",
      "cccccccc\n",
      "ccccccccc\n",
      "cccccccccc\n"
     ]
    }
   ],
   "source": [
    "#iç içe döngüler\n",
    "for satır in range(1,11):\n",
    "    for sütün in range(1,satır+1):\n",
    "        print('c',end=\"\")\n",
    "    print()"
   ]
  },
  {
   "cell_type": "code",
   "execution_count": 2,
   "id": "dfae27be",
   "metadata": {},
   "outputs": [
    {
     "name": "stdout",
     "output_type": "stream",
     "text": [
      "1\n",
      "22\n",
      "333\n",
      "4444\n",
      "55555\n",
      "666666\n",
      "7777777\n",
      "88888888\n",
      "999999999\n",
      "10101010101010101010\n"
     ]
    }
   ],
   "source": [
    "for satır in range(1,11):\n",
    "    for sütün in range(1,satır+1):\n",
    "        print(satır,end='')\n",
    "    print()"
   ]
  },
  {
   "cell_type": "code",
   "execution_count": 1,
   "id": "66314d95",
   "metadata": {},
   "outputs": [
    {
     "name": "stdout",
     "output_type": "stream",
     "text": [
      "1\n",
      "12\n",
      "123\n",
      "1234\n",
      "12345\n",
      "123456\n",
      "1234567\n",
      "12345678\n",
      "123456789\n",
      "12345678910\n"
     ]
    }
   ],
   "source": [
    "for satır in range(1,11):\n",
    "    for sütün in range(1,satır+1):\n",
    "        print(sütün,end='')\n",
    "    print()"
   ]
  },
  {
   "cell_type": "code",
   "execution_count": 5,
   "id": "b0b81961",
   "metadata": {},
   "outputs": [
    {
     "name": "stdout",
     "output_type": "stream",
     "text": [
      "1\n",
      "23\n",
      "456\n",
      "78910\n",
      "1112131415\n",
      "161718192021\n",
      "22232425262728\n"
     ]
    }
   ],
   "source": [
    "a=1\n",
    "for satır in range(1,8):\n",
    "    for sütün in range(1,satır+1):\n",
    "        print(a,end='')\n",
    "        a+=1\n",
    "    print()"
   ]
  },
  {
   "cell_type": "code",
   "execution_count": 6,
   "id": "75552b5d",
   "metadata": {},
   "outputs": [
    {
     "name": "stdout",
     "output_type": "stream",
     "text": [
      "10\n",
      "1010\n",
      "101010\n",
      "10101010\n",
      "1010101010\n",
      "101010101010\n",
      "10101010101010\n",
      "1010101010101010\n",
      "101010101010101010\n",
      "10101010101010101010\n"
     ]
    }
   ],
   "source": [
    "for satır in  range(1,11):\n",
    "    for sütün in range(1,satır+1):\n",
    "        print(i,end='')\n",
    "    print()"
   ]
  },
  {
   "cell_type": "code",
   "execution_count": 4,
   "id": "ea7de16a",
   "metadata": {},
   "outputs": [
    {
     "name": "stdout",
     "output_type": "stream",
     "text": [
      "x=5\n"
     ]
    }
   ],
   "source": [
    "x=int(input('x='))\n",
    "c=2\n",
    "while x<1:\n",
    "    x=x*0,8\n",
    "    c+=x\n",
    "    print(c)\n",
    "    \n",
    "    "
   ]
  },
  {
   "cell_type": "code",
   "execution_count": 22,
   "id": "dc75cbac",
   "metadata": {},
   "outputs": [
    {
     "name": "stdout",
     "output_type": "stream",
     "text": [
      "a=3\n",
      "b=3\n",
      "c=3\n",
      "eskenar ücgen\n",
      "eskenar ücgenin cevresi: 9\n",
      "eskenar ücgenin alanı (9, 1.25)\n"
     ]
    }
   ],
   "source": [
    "a=int(input('a='))\n",
    "b=int(input('b='))\n",
    "c=int(input('c='))\n",
    "if c>abs(a-b) and c<a+b:\n",
    "    if a==b==c:\n",
    "        print('eskenar ücgen')\n",
    "        cevre=a+b+c\n",
    "        print('eskenar ücgenin cevresi:',cevre)\n",
    "        alan=a**2*3**0,5/4\n",
    "        print('eskenar ücgenin alanı',alan)\n",
    "    elif a!=b and a!=c and b!=c:\n",
    "        print('cesitkenar ücgen')\n",
    "    else:\n",
    "        print('ikizkenar ücgen')\n",
    "else:\n",
    "    print('ücgen degil')\n",
    "\n",
    "\n",
    "\n",
    "\n",
    "\n",
    "        \n",
    "   "
   ]
  },
  {
   "cell_type": "code",
   "execution_count": 30,
   "id": "55f71638",
   "metadata": {},
   "outputs": [
    {
     "name": "stdout",
     "output_type": "stream",
     "text": [
      "a=30\n",
      "b=40\n",
      "Ebob= 1\n",
      "Ebob= 2\n",
      "Ebob= 5\n",
      "Ebob= 10\n"
     ]
    }
   ],
   "source": [
    "a=int(input('a='))\n",
    "b=int(input('b='))\n",
    "if a>b:\n",
    "    kücüksayı=b\n",
    "else:\n",
    "    kücüksayı=a\n",
    "for i in range(1,kücüksayı+1):\n",
    "    if a%i==0 and b%i==0:\n",
    "        ebob=i\n",
    "        print('Ebob=',ebob)"
   ]
  },
  {
   "cell_type": "code",
   "execution_count": null,
   "id": "07aa99c2",
   "metadata": {},
   "outputs": [],
   "source": [
    "a=input('0 ila 100 arasında sayı girin')\n",
    "x=int(input('x='))\n",
    "sayı=50\n",
    "c=0\n",
    "while True:\n",
    "    if x>sayı:\n",
    "        print('daha kücük bir sayı girin')\n",
    "        c\n",
    "    elif x<sayı:\n",
    "        print('daha büyük bir sayı girin')\n",
    "    else:\n",
    "        print('OYUNU KAZANDINIZ')\n",
    "        break"
   ]
  },
  {
   "cell_type": "code",
   "execution_count": 16,
   "id": "11a23302",
   "metadata": {},
   "outputs": [
    {
     "ename": "IndentationError",
     "evalue": "unexpected indent (2367271451.py, line 4)",
     "output_type": "error",
     "traceback": [
      "\u001b[1;36m  Input \u001b[1;32mIn [16]\u001b[1;36m\u001b[0m\n\u001b[1;33m    if x>0:\u001b[0m\n\u001b[1;37m    ^\u001b[0m\n\u001b[1;31mIndentationError\u001b[0m\u001b[1;31m:\u001b[0m unexpected indent\n"
     ]
    }
   ],
   "source": [
    "x=int(input('x='))\n",
    "sonuc=1\n",
    "\n",
    "    if x>0:\n",
    "        k=x%10\n",
    "        sonuc*=k\n",
    "        x=x//10\n",
    "        \n",
    "print(sonuc)\n",
    "    "
   ]
  },
  {
   "cell_type": "code",
   "execution_count": 18,
   "id": "920532de",
   "metadata": {},
   "outputs": [
    {
     "name": "stdout",
     "output_type": "stream",
     "text": [
      "n=4\n",
      "Asal Degil\n"
     ]
    }
   ],
   "source": [
    "n=int(input('n='))\n",
    "c=0\n",
    "for i in range(2,n):\n",
    "    if n%i==0:\n",
    "        c+=1\n",
    "        break\n",
    "if c==0:\n",
    "    print('Asal Sayı')\n",
    "else:\n",
    "    print('Asal Degil')"
   ]
  },
  {
   "cell_type": "code",
   "execution_count": 27,
   "id": "17db2fcb",
   "metadata": {},
   "outputs": [
    {
     "name": "stdout",
     "output_type": "stream",
     "text": [
      "a=30\n",
      "2\n",
      "3\n",
      "5\n"
     ]
    }
   ],
   "source": [
    "a=int(input('a='))\n",
    "c=0\n",
    "for i in range(2,a+1):\n",
    "    if a%i==0:\n",
    "        print(i)\n",
    "        a=a//i\n",
    "        c+=1\n",
    "        \n",
    "        \n",
    "    \n",
    "        \n",
    "        "
   ]
  },
  {
   "cell_type": "code",
   "execution_count": 2,
   "id": "75c82575",
   "metadata": {},
   "outputs": [
    {
     "name": "stdout",
     "output_type": "stream",
     "text": [
      "x=7\n",
      "Pronic Degil\n"
     ]
    }
   ],
   "source": [
    "x=int(input('x='))\n",
    "c=0\n",
    "for i in range(1,x):\n",
    "    if x==i*(i+1):\n",
    "        c+=1\n",
    "        break\n",
    "if c==1:\n",
    "    print('Pronic')\n",
    "else:\n",
    "    print('Pronic Degil')"
   ]
  },
  {
   "cell_type": "code",
   "execution_count": null,
   "id": "605132e7",
   "metadata": {},
   "outputs": [],
   "source": [
    "k=int(input('k='))\n",
    "c=0\n",
    "while True:\n",
    "    if k>0 and k<101:\n",
    "        k-=1\n",
    "        c+=1\n",
    "        print(k)\n",
    "    else:\n",
    "        print('1-100 ARASI DEGER GİRİN')\n",
    "        break\n",
    "    \n",
    "\n",
    "    "
   ]
  },
  {
   "cell_type": "code",
   "execution_count": null,
   "id": "23a64d31",
   "metadata": {},
   "outputs": [],
   "source": [
    "for i in range(15)\n",
    "    x=int(input('x='))\n",
    "        print('x')\n"
   ]
  },
  {
   "cell_type": "code",
   "execution_count": null,
   "id": "b0b29332",
   "metadata": {},
   "outputs": [],
   "source": [
    "urunler=[]\n",
    "adet=int(input('ürün :'))\n",
    "i=0\n",
    "while i<adet:\n",
    "    name=input('ürün ismi:')\n",
    "    price=input('ürün fiyatı:')\n",
    "    ürünler.append('')"
   ]
  }
 ],
 "metadata": {
  "kernelspec": {
   "display_name": "Python 3 (ipykernel)",
   "language": "python",
   "name": "python3"
  },
  "language_info": {
   "codemirror_mode": {
    "name": "ipython",
    "version": 3
   },
   "file_extension": ".py",
   "mimetype": "text/x-python",
   "name": "python",
   "nbconvert_exporter": "python",
   "pygments_lexer": "ipython3",
   "version": "3.9.12"
  }
 },
 "nbformat": 4,
 "nbformat_minor": 5
}
